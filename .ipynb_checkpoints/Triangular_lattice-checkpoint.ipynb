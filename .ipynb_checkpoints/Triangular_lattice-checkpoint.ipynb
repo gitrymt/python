{
 "cells": [
  {
   "cell_type": "markdown",
   "metadata": {},
   "source": [
    "Last edit: November 27th, 2019\n",
    "\n",
    "# Triangular lattice\n",
    "\n",
    "<div style=\"text-align: right;\">\n",
    "<font size=\"4\">Editor: Ryuta Yamamoto</font>\n",
    "</div>"
   ]
  },
  {
   "cell_type": "markdown",
   "metadata": {},
   "source": [
    "### Load python modules for calculation of trap frequency"
   ]
  },
  {
   "cell_type": "code",
   "execution_count": 1,
   "metadata": {},
   "outputs": [],
   "source": [
    "%matplotlib inline\n",
    "import numpy as np\n",
    "import matplotlib.pyplot as plt\n",
    "from numpy.random import *\n",
    "from scipy.special import j1\n",
    "\n",
    "# Mathmatics calculation\n",
    "from sympy import *\n",
    "from sympy.plotting import plot, plot3d\n",
    "init_printing()"
   ]
  },
  {
   "cell_type": "markdown",
   "metadata": {},
   "source": [
    "### Load default setting of Matplotlib"
   ]
  },
  {
   "cell_type": "code",
   "execution_count": 2,
   "metadata": {},
   "outputs": [],
   "source": [
    "plt.rcParams[\"font.size\"] = 14\n",
    "plt.rcParams['xtick.direction'] = 'in' # direction: in, out, or inout\n",
    "plt.rcParams['ytick.direction'] = 'in' # direction: in, out, or inout\n",
    "plt.rcParams['axes.linewidth'] = 1.5 # edge linewidth\n",
    "plt.rcParams['xtick.major.size'] = 8 # major tick size in points\n",
    "plt.rcParams['xtick.major.width'] = 1.5 # major tick width in points\n",
    "plt.rcParams['xtick.top'] = True # draw ticks on the top side\n",
    "plt.rcParams['ytick.major.size'] = 8 # major tick size in points\n",
    "plt.rcParams['ytick.major.width'] = 1.5 # major tick width in points\n",
    "plt.rcParams['ytick.right'] = True # draw ticks on the right side"
   ]
  },
  {
   "cell_type": "markdown",
   "metadata": {},
   "source": [
    "### Fucntions"
   ]
  },
  {
   "cell_type": "code",
   "execution_count": 3,
   "metadata": {},
   "outputs": [],
   "source": [
    "def PSF_calc(r, alpha):\n",
    "    I = (2 * j1(alpha * r) / (alpha * r))**2\n",
    "    \n",
    "    try:    \n",
    "        I[r==0] = 1\n",
    "    except:\n",
    "        I = I\n",
    "        \n",
    "    return I"
   ]
  },
  {
   "cell_type": "markdown",
   "metadata": {},
   "source": [
    "### Symbols for sympy calculation\n",
    "\n",
    "Wavenumbers of horizontal lattice $\\boldsymbol{k}^i$ are defined by\n",
    "\\begin{eqnarray*}\n",
    "\\boldsymbol{k} = \n",
    "\\begin{pmatrix}\n",
    "\\boldsymbol{k}^1 & \\boldsymbol{k}^2 & \\boldsymbol{k}^3 \\\\\n",
    "\\end{pmatrix}\n",
    "= k \\times \\begin{pmatrix}\n",
    "1 & \\cos\\theta & \\cos\\theta \\\\\n",
    "0 & \\sin\\theta & -\\sin\\theta \\\\\n",
    "0 & 0 & 0 \\\\\n",
    "\\end{pmatrix},\n",
    "\\end{eqnarray*}\n",
    "where wavenumber $k = 2\\pi / \\lambda$ and $\\theta$ is relative angle between lattice beams."
   ]
  },
  {
   "cell_type": "markdown",
   "metadata": {},
   "source": [
    "Reciprocal lattice vector $\\boldsymbol{b}_i = \\boldsymbol{k}^j - \\boldsymbol{k}^i$\n",
    "\\begin{eqnarray}\n",
    "\\boldsymbol{G} = \\begin{pmatrix}\n",
    "\\boldsymbol{b}_1 & \\boldsymbol{b}_2 \\\\\n",
    "\\end{pmatrix}\n",
    "= k \\times \\begin{pmatrix}\n",
    "\\cos\\theta - 1 & 0 \\\\\n",
    "\\sin\\theta & -2\\sin\\theta \\\\\n",
    "0 & 0 \\\\\n",
    "\\end{pmatrix},\n",
    "\\end{eqnarray}\n"
   ]
  },
  {
   "cell_type": "code",
   "execution_count": 4,
   "metadata": {},
   "outputs": [],
   "source": [
    "x, y, z = symbols('x y z', real=True)\n",
    "\n",
    "# Cartesian coordinates\n",
    "r = Matrix([x, y, z])\n",
    "\n",
    "theta0 = Symbol(r'\\theta_0', real=True)\n",
    "theta = Symbol(r'\\theta', real=True)\n",
    "dthetas = symbols(r'\\varDelta\\theta_1 \\varDelta\\theta_2', real=True)\n",
    "k = Symbol(\"k\", positive=True) # Wavenumber of horizontal and vertical lattice beam\n",
    "wavelength = Symbol(r'\\lambda', positive=True) # Wavelength of horizontal and vertical lattice beam\n",
    "\n",
    "w0 = Symbol(\"w_{0}\", positive=True) # beam radius of horizontal lattice beam\n",
    "elip = Symbol(r\"\\eta\", positive=True) # beam ellipticity of horizontal lattice beam\n",
    "\n",
    "P0 = Symbol(r'P_{0}', positive=True) # Laser power of horizontal and vertical lattice\n",
    "\n",
    "# Lattice wavevector: ks\n",
    "ks = transpose(k * Matrix([[cos(theta0), sin(theta0), 0], [cos(theta0 + theta + dthetas[0]), sin(theta0 + theta + dthetas[0]), 0], [cos(theta0 - theta + dthetas[1]), sin(theta0 - theta + dthetas[1]), 0]]))\n",
    "ks = ks.subs({theta0: pi/3, theta: 2*pi/3, dthetas[0]: 0, dthetas[1]: 0})\n",
    "\n",
    "# Intensity of lattice beam\n",
    "I0 = 2 * P0 / (pi * w0 * (elip * w0))"
   ]
  },
  {
   "cell_type": "code",
   "execution_count": 5,
   "metadata": {},
   "outputs": [],
   "source": [
    "# Reciprocal lattice vector\n",
    "G = [simplify(ks[0:3:1, n+1] - ks[0:3:1, n]) for n in range(2)]\n",
    "\n",
    "a = symbols('a_x^1 a_y^1 a_x^2 a_y^2', real=True)\n",
    "az = Symbol('a_z', real=True)\n",
    "a1 = Matrix([a[i] if i<2 else 0 for i in range(3)])\n",
    "a2 = Matrix([a[i+2] if i<2 else 0 for i in range(3)])\n",
    "a3 = Matrix([0, 0, az])\n",
    "\n",
    "eq1 = (transpose(G[0]) * a1)[0] - 2 * pi\n",
    "eq2 = (transpose(G[1]) * a1)[0]\n",
    "eq3 = (transpose(G[0]) * a2)[0]\n",
    "eq4 = (transpose(G[1]) * a2)[0] - 2 * pi\n",
    "\n",
    "tmp = solve([eq1, eq2, eq3, eq4], a)\n",
    "\n",
    "b = [0, 0, 0, 0]\n",
    "for n, v in enumerate(tmp.values()):\n",
    "    b[n] = v\n",
    "a1 = Matrix([b[i] if i<2 else 0 for i in range(3)])\n",
    "a2 = Matrix([b[i+2] if i<2 else 0 for i in range(3)])"
   ]
  },
  {
   "cell_type": "code",
   "execution_count": 6,
   "metadata": {},
   "outputs": [
    {
     "data": {
      "image/png": "[encoded data removed]",
      "text/plain": [
       "<Figure size 432x432 with 1 Axes>"
      ]
     },
     "metadata": {
      "needs_background": "light"
     },
     "output_type": "display_data"
    }
   ],
   "source": [
    "N = 50\n",
    "Rsite = 15\n",
    "\n",
    "nm = [[i - (N-1)/2, j - (N-1)/2] for i in range(N) for j in range(N)]\n",
    "x_ol = Matrix([a1[0] * nm[i][0] + a2[0] * nm[i][1] for i in range(N*N)])\n",
    "y_ol = Matrix([a1[1] * nm[i][0] + a2[1] * nm[i][1] for i in range(N*N)])\n",
    "\n",
    "#x_ol.subs(k, 2 * pi / wavelength)\n",
    "xs_tmp = np.array([v for v in x_ol.subs(k, 2 * pi/1.064)], dtype=np.float)\n",
    "ys_tmp = np.array([v for v in y_ol.subs(k, 2 * pi/1.064)], dtype=np.float)\n",
    "xs = xs_tmp[xs_tmp**2 + ys_tmp**2 < Rsite**2]\n",
    "ys = ys_tmp[xs_tmp**2 + ys_tmp**2 < Rsite**2]\n",
    "\n",
    "plt.figure(figsize=[6, 6])\n",
    "plt.plot(xs, ys, 'k.')\n",
    "plt.gca().set_aspect('equal', adjustable='box')\n",
    "plt.xlim([-5, 5])\n",
    "plt.ylim([-5, 5])\n",
    "plt.xlabel('x-axis ($\\mu$m)')\n",
    "plt.ylabel('y-axis ($\\mu$m)')\n",
    "plt.show()"
   ]
  },
  {
   "cell_type": "code",
   "execution_count": 7,
   "metadata": {},
   "outputs": [
    {
     "name": "stderr",
     "output_type": "stream",
     "text": [
      "C:\\Anaconda3\\envs\\py36\\lib\\site-packages\\ipykernel_launcher.py:2: RuntimeWarning: invalid value encountered in true_divide\n",
      "  \n"
     ]
    },
    {
     "data": {
      "image/png": "[encoded data removed]",
      "text/plain": [
       "<Figure size 432x360 with 1 Axes>"
      ]
     },
     "metadata": {
      "needs_background": "light"
     },
     "output_type": "display_data"
    }
   ],
   "source": [
    "NA = 0.65\n",
    "#NA = 0.55\n",
    "k_calc = 2 * pi.evalf() / 0.780\n",
    "alpha = float(k_calc * NA)\n",
    "PSF = (2 * besselj(1, alpha * x) / (alpha * x))**2\n",
    "sigma_PSF = 0.213 * 0.780 / NA\n",
    "\n",
    "# plot(PSF, (x, 0, 2), xlabel='$\\mathit{r}$ ($\\mu$m)');\n",
    "\n",
    "N = 300\n",
    "Magnification = 500 / 4\n",
    "#Magnification = 750 / 4\n",
    "\n",
    "#Magnification = 200\n",
    "\n",
    "dpx = 16 / Magnification\n",
    "\n",
    "XX, YY = np.meshgrid([(n - (N - 1)/2) * dpx for n in range(N)], [[(n - (N - 1)/2) * dpx for n in range(N)]])\n",
    "RR = np.sqrt(XX**2 + YY**2)\n",
    "\n",
    "r_psf = np.linspace(0, 2, 1001)\n",
    "I_psf = PSF_calc(r_psf, alpha)\n",
    "#I_psf = (2 * j1(float(alpha) * r_psf) / (alpha * r_psf))**2\n",
    "#I_psf[r_psf==0] = 1\n",
    "\n",
    "plt.figure(figsize=[6, 5])\n",
    "plt.fill_between(r_psf, 0, I_psf, facecolor='#ffaaaa', alpha=0.5)\n",
    "plt.plot(r_psf, I_psf, c='#ff0000')\n",
    "plt.xlim([0, 2])\n",
    "plt.ylim([-0.05, 1.05])\n",
    "plt.xlabel(\"Radius ($\\mu$m)\")\n",
    "plt.ylabel(\"Signal (arb. u.)\")\n",
    "plt.show()"
   ]
  },
  {
   "cell_type": "code",
   "execution_count": 8,
   "metadata": {},
   "outputs": [
    {
     "data": {
      "image/png": "[encoded data removed]",
      "text/plain": [
       "<Figure size 720x720 with 1 Axes>"
      ]
     },
     "metadata": {
      "needs_background": "light"
     },
     "output_type": "display_data"
    }
   ],
   "source": [
    "D_psf = 1.221 * 0.780 / NA\n",
    "N_psf = int(D_psf * Magnification / 16 * 3)\n",
    "XX_psf, YY_psf = np.meshgrid([(n - (N_psf - 1)/2) * dpx for n in range(N_psf)], [[(n - (N_psf - 1)/2) * dpx for n in range(N_psf)]])\n",
    "\n",
    "RR_psf = np.sqrt((XX_psf)**2 + (YY_psf)**2)\n",
    "ZZ_psf = PSF_calc(RR_psf, alpha)\n",
    "\n",
    "plt.figure(figsize=[10, 10])\n",
    "plt.pcolormesh(XX_psf, YY_psf, ZZ_psf)\n",
    "plt.xlabel(\"X ($\\mu$m)\")\n",
    "plt.ylabel(\"Y ($\\mu$m)\")\n",
    "plt.title('PSF: Magnification - %.2f, Resolution - %.2f $\\mu$m ~ %.2f px' % (Magnification, D_psf, D_psf * Magnification / 16))\n",
    "plt.show()"
   ]
  },
  {
   "cell_type": "code",
   "execution_count": null,
   "metadata": {},
   "outputs": [],
   "source": []
  },
  {
   "cell_type": "code",
   "execution_count": 9,
   "metadata": {},
   "outputs": [
    {
     "ename": "AttributeError",
     "evalue": "'PythonIntegerRing' object has no attribute 'shape'",
     "output_type": "error",
     "traceback": [
      "\u001b[1;31m---------------------------------------------------------------------------\u001b[0m",
      "\u001b[1;31mAttributeError\u001b[0m                            Traceback (most recent call last)",
      "\u001b[1;32m<ipython-input-9-202fbccd5c27>\u001b[0m in \u001b[0;36m<module>\u001b[1;34m\u001b[0m\n\u001b[0;32m     10\u001b[0m \u001b[1;31m#A0[A0>0.5] = 1 + 0.4 * (rand(N_th) - 0.5)\u001b[0m\u001b[1;33m\u001b[0m\u001b[1;33m\u001b[0m\u001b[0m\n\u001b[0;32m     11\u001b[0m \u001b[1;33m\u001b[0m\u001b[0m\n\u001b[1;32m---> 12\u001b[1;33m \u001b[0mZZ_bg\u001b[0m \u001b[1;33m=\u001b[0m \u001b[0mA0max\u001b[0m\u001b[1;33m/\u001b[0m\u001b[1;36m10\u001b[0m \u001b[1;33m*\u001b[0m \u001b[0mrand\u001b[0m\u001b[1;33m(\u001b[0m\u001b[0mZZ\u001b[0m\u001b[1;33m.\u001b[0m\u001b[0mshape\u001b[0m\u001b[1;33m[\u001b[0m\u001b[1;36m0\u001b[0m\u001b[1;33m]\u001b[0m\u001b[1;33m,\u001b[0m \u001b[0mZZ\u001b[0m\u001b[1;33m.\u001b[0m\u001b[0mshape\u001b[0m\u001b[1;33m[\u001b[0m\u001b[1;36m1\u001b[0m\u001b[1;33m]\u001b[0m\u001b[1;33m)\u001b[0m\u001b[1;33m\u001b[0m\u001b[0m\n\u001b[0m",
      "\u001b[1;31mAttributeError\u001b[0m: 'PythonIntegerRing' object has no attribute 'shape'"
     ]
    }
   ],
   "source": [
    "seed(99)\n",
    "\n",
    "N_loop = np.array(xs, dtype=np.float).size\n",
    "\n",
    "A0 = rand(N_loop)\n",
    "A0max = 2\n",
    "A0[A0<=0.5] = 0\n",
    "N_th = A0[A0>0.5].size\n",
    "A0[A0>0.5] = A0max * (1 + 0.5 * (rand(N_th) - 0.5))\n",
    "#A0[A0>0.5] = 1 + 0.4 * (rand(N_th) - 0.5)\n",
    "\n",
    "ZZ_bg = A0max/10 * rand(ZZ.shape[0], ZZ.shape[1])"
   ]
  },
  {
   "cell_type": "code",
   "execution_count": null,
   "metadata": {},
   "outputs": [],
   "source": [
    "ZZ_gauss = np.zeros(RR.shape)\n",
    "ZZ_psf = np.zeros(RR.shape)\n",
    "\n",
    "for n in range(N_loop):\n",
    "    RR = np.sqrt((XX - xs[n])**2 + (YY - ys[n])**2)\n",
    "    ZZ_gauss += A0[n] * np.exp(-RR**2 / (2 * sigma_PSF**2))\n",
    "    ZZ_psf += A0[n] * PSF_calc(RR, alpha)\n",
    "\n",
    "ZZ_gauss += ZZ_bg\n",
    "ZZ_psf += ZZ_bg"
   ]
  },
  {
   "cell_type": "code",
   "execution_count": null,
   "metadata": {},
   "outputs": [],
   "source": [
    "plt.figure(figsize=[20, 10])\n",
    "\n",
    "plt.subplot(1, 2, 1)\n",
    "plt.imshow(ZZ_gauss)\n",
    "plt.title('Gaussian approximation')\n",
    "#plt.xlim([0, 100]);\n",
    "#plt.ylim([0, 100]);\n",
    "\n",
    "plt.subplot(1, 2, 2)\n",
    "plt.imshow(ZZ_psf)\n",
    "plt.title('Airy funcion')\n",
    "#plt.plot((np.max(XX) - xs) / dpx, (np.max(YY) - ys) / dpx, 'k.')\n",
    "#plt.xlim([0, 100]);\n",
    "#plt.ylim([0, 100]);\n",
    "\n",
    "#plt.savefig('../img/test.pdf')"
   ]
  },
  {
   "cell_type": "code",
   "execution_count": null,
   "metadata": {},
   "outputs": [],
   "source": [
    "A0_hist = []\n",
    "\n",
    "for n_seed in range(100):\n",
    "    seed(n_seed)\n",
    "    \n",
    "    A0_tmp = rand(N_loop)\n",
    "    A0max = 1\n",
    "    A0_tmp[A0<=0.5] = 0\n",
    "    A0[A0<=0.5] = A0[A0<=0.5] / 10\n",
    "    N_th = A0[A0>0.5].size\n",
    "    A0_tmp[A0>0.5] = A0max * (1 + 0.5 * (rand(N_th) - 0.5))\n",
    "    \n",
    "    A0_hist = np.append(A0_hist, A0_tmp)\n",
    "\n",
    "print(A0_hist)\n",
    "\n",
    "plt.hist(A0_hist, bins=30)"
   ]
  },
  {
   "cell_type": "code",
   "execution_count": null,
   "metadata": {},
   "outputs": [],
   "source": [
    "np.min(XX)"
   ]
  },
  {
   "cell_type": "code",
   "execution_count": null,
   "metadata": {},
   "outputs": [],
   "source": [
    "f = (2 * besselj(1, k_calc * NA * x) / (k_calc * NA * x))**2\n",
    "g = (2 * besselj(1, k_calc * NA * sqrt(x**2 + y**2)) / (k_calc * NA * sqrt(x**2 + y**2)))**2\n",
    "\n",
    "#plot(g, (x, 0, 2))"
   ]
  },
  {
   "cell_type": "code",
   "execution_count": null,
   "metadata": {},
   "outputs": [],
   "source": [
    "plot3d(g, (x, -2, 2), (y, -2, 2))  # 3d surface cartesian plot\n"
   ]
  },
  {
   "cell_type": "markdown",
   "metadata": {},
   "source": [
    "---\n",
    "### 逆格子ベクトルおよび基本格子ベクトルの計算 \n",
    "逆格子ベクトルは以下のように定義されている;\n",
    "\\begin{eqnarray}\n",
    "\\boldsymbol{b}_1\n",
    "= 2\\pi \\dfrac{\\boldsymbol{a}_2 \\times \\boldsymbol{a}_3}{\\boldsymbol{a}_1 \\cdot (\\boldsymbol{a}_2 \\times \\boldsymbol{a}_3)},\n",
    "\\boldsymbol{b}_2\n",
    "= 2\\pi \\dfrac{\\boldsymbol{a}_3 \\times \\boldsymbol{a}_1}{\\boldsymbol{a}_1 \\cdot (\\boldsymbol{a}_2 \\times \\boldsymbol{a}_3)},\n",
    "\\boldsymbol{b}_3\n",
    "= 2\\pi \\dfrac{\\boldsymbol{a}_1 \\times \\boldsymbol{a}_2}{\\boldsymbol{a}_1 \\cdot (\\boldsymbol{a}_2 \\times \\boldsymbol{a}_3)}.\n",
    "\\end{eqnarray}\n",
    "\n",
    "一方で, 格子の基本並進ベクトル (primitive translation vector) $\\boldsymbol{a}_i$ は逆格子ベクトルを用いて\n",
    "\\begin{eqnarray}\n",
    "\\boldsymbol{a}_1\n",
    "= 2\\pi \\dfrac{\\boldsymbol{b}_2 \\times \\boldsymbol{b}_3}{\\boldsymbol{b}_1 \\cdot (\\boldsymbol{b}_2 \\times \\boldsymbol{b}_3)},\n",
    "\\boldsymbol{a}_2\n",
    "= 2\\pi \\dfrac{\\boldsymbol{b}_3 \\times \\boldsymbol{b}_1}{\\boldsymbol{b}_1 \\cdot (\\boldsymbol{b}_2 \\times \\boldsymbol{b}_3)},\n",
    "\\boldsymbol{a}_3\n",
    "= 2\\pi \\dfrac{\\boldsymbol{b}_1 \\times \\boldsymbol{b}_2}{\\boldsymbol{b}_1 \\cdot (\\boldsymbol{b}_2 \\times \\boldsymbol{b}_3)}\n",
    "\\end{eqnarray}\n",
    "と記述できる.\n",
    "\n",
    "cf.) [キッテル 固体物理学入門 第8版](https://www.amazon.co.jp/%E3%82%AD%E3%83%83%E3%83%86%E3%83%AB-%E5%9B%BA%E4%BD%93%E7%89%A9%E7%90%86%E5%AD%A6%E5%85%A5%E9%96%80-%E7%AC%AC8%E7%89%88-%E3%83%8F%E3%83%BC%E3%83%88%E3%82%AB%E3%83%90%E3%83%BC%E7%89%88-%E3%83%81%E3%83%A3%E3%83%BC%E3%83%AB%E3%82%BA/dp/4621076566)"
   ]
  },
  {
   "cell_type": "markdown",
   "metadata": {},
   "source": [
    "#### 基本並進ベクトルの定義"
   ]
  },
  {
   "cell_type": "code",
   "execution_count": null,
   "metadata": {},
   "outputs": [],
   "source": [
    "LatticeConfiguration = \"Square\"\n",
    "LatticeConfiguration = \"Triangular\"\n",
    "\n",
    "if LatticeConfiguration == \"Square\":\n",
    "    a1 = Matrix([pi / k, 0, 0])\n",
    "    a2 = Matrix([0, pi / k, 0])\n",
    "    a3 = Matrix([0, 0, az])\n",
    "elif LatticeConfiguration == \"Triangular\":\n",
    "    a1 = Matrix([-2 * pi, -2 * sqrt(3) * pi, 0]) / (3 * k)\n",
    "    a2 = Matrix([2 * pi, -2 * sqrt(3) * pi, 0]) / (3 * k)\n",
    "    a3 = Matrix([0, 0, az])\n",
    "else:\n",
    "    a1 = Matrix([pi / k, 0, 0])\n",
    "    a2 = Matrix([0, pi / k, 0])\n",
    "    a3 = Matrix([0, 0, az])\n"
   ]
  },
  {
   "cell_type": "markdown",
   "metadata": {},
   "source": [
    "#### 逆格子ベクトル（および基本並進ベクトル）の計算"
   ]
  },
  {
   "cell_type": "code",
   "execution_count": null,
   "metadata": {},
   "outputs": [],
   "source": [
    "tmp = a1.dot(a2.cross(a3))\n",
    "b = [2 * pi * a2.cross(a3) / tmp, 2 * pi * a3.cross(a1) / tmp, 2 * pi * a1.cross(a2) / tmp]\n",
    "b"
   ]
  },
  {
   "cell_type": "code",
   "execution_count": null,
   "metadata": {},
   "outputs": [],
   "source": [
    "tmp = b[0].dot(b[1].cross(b[2]))\n",
    "a = [2 * pi * b[1].cross(b[2]) / tmp, 2 * pi * b[2].cross(b[0]) / tmp, 2 * pi * b[0].cross(b[1]) / tmp]\n",
    "a_d = [a[0].subs([[k, 2 * pi / wavelength]]), a[1].subs([[k, 2 * pi / wavelength]]), a[2]]\n",
    "\n",
    "a"
   ]
  },
  {
   "cell_type": "markdown",
   "metadata": {},
   "source": [
    "----\n",
    "### Unit cell 中のサイト数の比較\n",
    "トラップ周波数の影響を考える上で 1 site に必要な面積, つまり Unit cell の面積は有用である.\n",
    "\n",
    "ここで, Unit cell の体積は格子の基本並進ベクトル (primitive translation vector) $\\boldsymbol{a}_i$ を用いて\n",
    "$V=\\boldsymbol{a}_1 \\cdot (\\boldsymbol{a}_2 \\times \\boldsymbol{a}_3)$\n",
    "などと記述できる.\n",
    "\n",
    "今, 2次元平面内の unit cell を考えており, この平面に対して直交する軸を 1 とすれば, 上記の式は unit cell の面積となる.\n",
    "\n",
    "これより, 三角格子の unit cell の面積は\n",
    "\\begin{equation*}\n",
    "S_{\\mathbf{tri}} = \\dfrac{2\\sqrt{3}}{9}\\lambda^2\n",
    "\\end{equation*}\n",
    "となる.\n",
    "\n",
    "一方, 正方格子の場合は\n",
    "\\begin{equation*}\n",
    "S_{\\mathbf{sq}} = \\dfrac{1}{4}\\lambda^2\n",
    "\\end{equation*}\n",
    "となる.\n",
    "\n",
    "いずれの場合もこの unit cell の面積中にサイトは 1つのみであるから, 三角格子を正方格子の場合と同一波長で構築した際に単位面積当たりのサイト数を比較すると,\n",
    "\\begin{eqnarray*}\n",
    "\\dfrac{1/S_{\\mathbf{tri}}}{1/S_{\\mathbf{sq}}}\n",
    "&=& \\dfrac{3\\sqrt{3}}{8} \\sim 0.65\n",
    "\\end{eqnarray*}\n",
    "となる.\n",
    "\n",
    "従って, この点からは三角格子の場合は正方格子の場合と比較して, トラップ周波数を小さくする必要がある.\n",
    "\n",
    "しかし, 一方で隣接サイト数が正方格子の場合 4つであるのに対して, 三角格子は隣接サイト数が 6つである.\n",
    "\n",
    "これにより Mott 状態への遷移が U/(zJ) ~ 5.8 となる."
   ]
  },
  {
   "cell_type": "code",
   "execution_count": null,
   "metadata": {},
   "outputs": [],
   "source": [
    "tmp_tri = a1.dot(a2.cross(a3))\n",
    "Stri = tmp_tri.subs({k: 2*pi/wavelength, az: 1})\n",
    "\n",
    "aa1 = Matrix([1, 0, 0]) * 2 * pi / (2 * k)\n",
    "aa2 = Matrix([0, 1, 0]) * 2 * pi / (2 * k)\n",
    "\n",
    "tmp_sq = aa1.dot(aa2.cross(a3))\n",
    "Ssq = tmp_sq.subs({k: 2 * pi/wavelength, az: 1})\n",
    "\n",
    "Ssq/Stri"
   ]
  },
  {
   "cell_type": "markdown",
   "metadata": {},
   "source": [
    "------\n",
    "以下：雑多な計算"
   ]
  },
  {
   "cell_type": "code",
   "execution_count": null,
   "metadata": {},
   "outputs": [],
   "source": [
    "80*0.65"
   ]
  },
  {
   "cell_type": "code",
   "execution_count": null,
   "metadata": {},
   "outputs": [],
   "source": []
  },
  {
   "cell_type": "markdown",
   "metadata": {},
   "source": [
    "---\n",
    "[Numpy 乱数生成(ポアソン分布)](https://docs.scipy.org/doc/numpy-1.15.4/reference/generated/numpy.random.poisson.html)"
   ]
  },
  {
   "cell_type": "code",
   "execution_count": null,
   "metadata": {},
   "outputs": [],
   "source": [
    "import numpy.random as rd\n",
    "\n",
    "x = rd.poisson(25, 100000)\n",
    "\n",
    "plt.figure()\n",
    "plt.hist(x, 50, color=\"red\", rwidth=1, ec=\"k\", alpha=0.5)\n",
    "plt.show()"
   ]
  },
  {
   "cell_type": "code",
   "execution_count": null,
   "metadata": {},
   "outputs": [],
   "source": []
  }
 ],
 "metadata": {
  "kernelspec": {
   "display_name": "Python3.6",
   "language": "python",
   "name": "py36"
  },
  "language_info": {
   "codemirror_mode": {
    "name": "ipython",
    "version": 3
   },
   "file_extension": ".py",
   "mimetype": "text/x-python",
   "name": "python",
   "nbconvert_exporter": "python",
   "pygments_lexer": "ipython3",
   "version": "3.6.6"
  }
 },
 "nbformat": 4,
 "nbformat_minor": 2
}
