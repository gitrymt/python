{
 "cells": [
  {
   "cell_type": "markdown",
   "metadata": {},
   "source": [
    "Last edit: June 8th, 2018\n",
    "\n",
    "# Raman cooling\n",
    "\n",
    "<div style=\"text-align: right;\">\n",
    "<font size=\"4\">Editor: Ryuta Yamamoto</font>\n",
    "</div>\n",
    "\n",
    "Ref.)\n",
    "\n",
    "[1] [XXXX]()"
   ]
  },
  {
   "cell_type": "markdown",
   "metadata": {},
   "source": [
    "### Load python modules for calculation of trap frequency"
   ]
  },
  {
   "cell_type": "code",
   "execution_count": 1,
   "metadata": {},
   "outputs": [],
   "source": [
    "%matplotlib inline\n",
    "import numpy as np\n",
    "import matplotlib.pyplot as plt\n",
    "import matplotlib.patches as patches\n",
    "\n",
    "# Mathmatics calculation\n",
    "import sympy as sym\n",
    "from sympy import symbols, Symbol, init_printing, simplify\n",
    "from sympy.plotting import plot, plot3d\n",
    "\n",
    "init_printing()"
   ]
  },
  {
   "cell_type": "markdown",
   "metadata": {},
   "source": [
    "### Plot parameters"
   ]
  },
  {
   "cell_type": "code",
   "execution_count": 2,
   "metadata": {},
   "outputs": [],
   "source": [
    "# https://matplotlib.org/users/customizing.html\n",
    "plt.rcParams[\"font.size\"] = 14\n",
    "plt.rcParams['xtick.direction'] = 'in' # direction: in, out, or inout\n",
    "plt.rcParams['ytick.direction'] = 'in' # direction: in, out, or inout\n",
    "plt.rcParams['axes.linewidth'] = 1.5 # edge linewidth\n",
    "plt.rcParams['xtick.major.size'] = 4 # major tick size in points\n",
    "plt.rcParams['xtick.major.width'] = 1.5 # major tick width in points\n",
    "plt.rcParams['xtick.top'] = True # draw ticks on the top side\n",
    "plt.rcParams['ytick.major.size'] = 4 # major tick size in points\n",
    "plt.rcParams['ytick.major.width'] = 1.5 # major tick width in points\n",
    "plt.rcParams['ytick.right'] = True # draw ticks on the right side"
   ]
  },
  {
   "cell_type": "markdown",
   "metadata": {},
   "source": [
    "### Symbols for sympy calculation"
   ]
  },
  {
   "cell_type": "code",
   "execution_count": 3,
   "metadata": {},
   "outputs": [],
   "source": [
    "x, y, z = symbols('x y z', real=True)\n",
    "\n",
    "wavelengthL = Symbol('\\lambda_L', positive=True)"
   ]
  },
  {
   "cell_type": "markdown",
   "metadata": {},
   "source": [
    "### Physical constants\n",
    "\n"
   ]
  },
  {
   "cell_type": "code",
   "execution_count": 4,
   "metadata": {},
   "outputs": [],
   "source": [
    "# Symbol\n",
    "c_light = Symbol('c', positive=True) # Speed of light (m/s)\n",
    "h_Plank, hbar = symbols('h, \\hbar', positive=True) # Plank constant (J s)\n",
    "kB = Symbol('k_B', positive=True)# Boltzmann constant (J/K)\n",
    "\n",
    "# Value\n",
    "c_light_val = 2.99792458 * 1e8 # Speed of light (m/s)\n",
    "\n",
    "mu_val = 1.660538782 * 1e-27 # atomic mass unit (kg)\n",
    "\n",
    "h_Plank_val = 6.62606957 * 1e-34 # Plank constant (J s)\n",
    "hbar_val = h_Plank_val / (2 * np.pi)\n",
    "\n",
    "kB_val = 1.3806504 * 1e-23 # Boltzmann constant (J/K)"
   ]
  },
  {
   "cell_type": "markdown",
   "metadata": {},
   "source": [
    "### Parameters of Rb"
   ]
  },
  {
   "cell_type": "code",
   "execution_count": 5,
   "metadata": {},
   "outputs": [],
   "source": [
    "mass_Rb_val = 87 * mu_val\n",
    "\n",
    "wavelengthD_val = np.array([794.978851156 * 1e-9, 780.241209686 * 1e-9]) # wavelength (D1 & D2)\n",
    "GammaD_val = 2 * np.pi * np.array([5.7500 * 1e6, 6.0666 * 1e6])\n",
    "omegaD_val = 2 * np.pi * c_light_val / wavelengthD_val\n",
    "\n",
    "#e = 1.602176565 * 1e-19 # C\n",
    "#a0 = 0.52917721092 * 1e-10 # Bohr radius (m)\n",
    "#me = 9.10938215 * 1e-31\n",
    "#ea0 = hbar**2 / (me * e)"
   ]
  },
  {
   "cell_type": "markdown",
   "metadata": {},
   "source": [
    "### Parameters of Trap beam"
   ]
  },
  {
   "cell_type": "code",
   "execution_count": 6,
   "metadata": {},
   "outputs": [],
   "source": [
    "wavelengthL_val = 810* 1e-9 # Wavelength of trap beam (m)\n",
    "omegaL_val = 2 * np.pi * c_light_val / wavelengthL_val\n",
    "\n",
    "P_val = 50e-3 # Power of trap beam (W)\n",
    "w0H_val = 120e-6 # Beam radius along horizontal (m)\n",
    "w0V_val = w0H_val / 4 #  Beam radius along vertical (m)\n",
    "w0H_val = 30e-6 # Beam radius along horizontal (m)\n",
    "w0V_val = w0H_val / 1 #  Beam radius along vertical (m)\n",
    "I_val = 2 * P_val / (np.pi * (w0H_val * w0V_val)) # Intensity of trap beam"
   ]
  },
  {
   "cell_type": "code",
   "execution_count": 21,
   "metadata": {},
   "outputs": [
    {
     "data": {
      "image/png": "[encoded data removed]",
      "text/latex": [
       "$$784.6957289960205$$"
      ],
      "text/plain": [
       "784.6957289960205"
      ]
     },
     "execution_count": 21,
     "metadata": {},
     "output_type": "execute_result"
    }
   ],
   "source": [
    "f_val = c_light_val / 780e-9 - 2.3 * 1e12\n",
    "c_light_val/f_val * 1e9\n"
   ]
  },
  {
   "cell_type": "markdown",
   "metadata": {},
   "source": [
    "### Rabi Two-level system\n",
    "\n",
    "ref.)\n",
    "[\"Laser Cooling and Trapping\", Harold J. Metcalf and Peter van der Straten]()"
   ]
  },
  {
   "cell_type": "code",
   "execution_count": 24,
   "metadata": {},
   "outputs": [
    {
     "data": {
      "image/png": "[encoded data removed]",
      "text/latex": [
       "$$11.250000000000002$$"
      ],
      "text/plain": [
       "11.250000000000002"
      ]
     },
     "execution_count": 24,
     "metadata": {},
     "output_type": "execute_result"
    }
   ],
   "source": [
    "1.8/(0.6*0.8)*3"
   ]
  }
 ],
 "metadata": {
  "kernelspec": {
   "display_name": "Python 3",
   "language": "python",
   "name": "python3"
  },
  "language_info": {
   "codemirror_mode": {
    "name": "ipython",
    "version": 3
   },
   "file_extension": ".py",
   "mimetype": "text/x-python",
   "name": "python",
   "nbconvert_exporter": "python",
   "pygments_lexer": "ipython3",
   "version": "3.6.5"
  }
 },
 "nbformat": 4,
 "nbformat_minor": 2
}
